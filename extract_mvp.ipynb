{
 "cells": [
  {
   "cell_type": "code",
   "execution_count": null,
   "id": "5cab17ad-fd85-4b53-86fc-6bf487185019",
   "metadata": {},
   "outputs": [],
   "source": [
    "import pandas as pd"
   ]
  },
  {
   "cell_type": "code",
   "execution_count": null,
   "id": "3a2c5c5b-a83e-4dd9-9ded-049c13c9c10a",
   "metadata": {},
   "outputs": [],
   "source": [
    "articles = pd.read_csv(\"../dataset/articles.csv\", delimiter=',')"
   ]
  },
  {
   "cell_type": "code",
   "execution_count": null,
   "id": "91ec2560-8804-46ba-85f1-79c30bf0c1ce",
   "metadata": {},
   "outputs": [],
   "source": [
    "articles.head(10)"
   ]
  },
  {
   "cell_type": "code",
   "execution_count": null,
   "id": "756d05c2-0168-4ae5-9f40-dc3609d4ef9f",
   "metadata": {},
   "outputs": [],
   "source": [
    "articles['title'].apply(lambda x : x.strip())"
   ]
  },
  {
   "cell_type": "code",
   "execution_count": null,
   "id": "f7791dfd-d0b6-4196-a858-648db48ccdbf",
   "metadata": {},
   "outputs": [],
   "source": [
    "articles.shape"
   ]
  },
  {
   "cell_type": "code",
   "execution_count": 5,
   "id": "746732a3-2278-4a32-bbec-0075a28f21da",
   "metadata": {},
   "outputs": [],
   "source": [
    "articles = articles[~articles['text'].isnull()]"
   ]
  },
  {
   "cell_type": "code",
   "execution_count": 8,
   "id": "14c6336f-2cd7-41b6-9528-12af04a101e6",
   "metadata": {},
   "outputs": [],
   "source": [
    "articles = articles[(articles['title'].str.len() > 40) & (articles['text'].str.find('.') > 150)]"
   ]
  },
  {
   "cell_type": "code",
   "execution_count": 9,
   "id": "ccc603b9-2a58-47a3-9c80-7855c6600126",
   "metadata": {},
   "outputs": [
    {
     "data": {
      "text/plain": [
       "(93957, 6)"
      ]
     },
     "execution_count": 9,
     "metadata": {},
     "output_type": "execute_result"
    }
   ],
   "source": [
    "articles.shape"
   ]
  },
  {
   "cell_type": "code",
   "execution_count": 11,
   "id": "ed35b60f-905e-4078-be61-b3f9ad801e72",
   "metadata": {},
   "outputs": [],
   "source": [
    "news_size = 1000"
   ]
  },
  {
   "cell_type": "code",
   "execution_count": 13,
   "id": "59816970-d50c-4c03-a74f-6e5b6f74636c",
   "metadata": {},
   "outputs": [],
   "source": [
    "arc = articles.sample(n=news_size)"
   ]
  },
  {
   "cell_type": "code",
   "execution_count": 15,
   "id": "0a0d66a3-e55e-4d8b-8a67-d404a995926d",
   "metadata": {},
   "outputs": [],
   "source": [
    "pcts = []\n",
    "dots = []\n",
    "lens = []\n",
    "\n",
    "for idx, row in arc.iterrows():\n",
    "    try:\n",
    "        headline = row['title'].strip()\n",
    "        text = row['text'].strip()\n",
    "        \n",
    "        dot_idx = text.find('.')\n",
    "\n",
    "        # no dot was found\n",
    "        if dot_idx == -1:\n",
    "            print(\"This was not found\", text)\n",
    "            print(\" => \", row['category'])\n",
    "        \n",
    "        text_len = len(text)\n",
    "        pcts.append(round(dot_idx / text_len, 2))\n",
    "        dots.append(dot_idx)\n",
    "        lens.append(text_len)\n",
    "    except:\n",
    "        print(\"Found error parsing: \", row['text'])"
   ]
  }
 ],
 "metadata": {
  "kernelspec": {
   "display_name": "Python 3 (ipykernel)",
   "language": "python",
   "name": "python3"
  },
  "language_info": {
   "codemirror_mode": {
    "name": "ipython",
    "version": 3
   },
   "file_extension": ".py",
   "mimetype": "text/x-python",
   "name": "python",
   "nbconvert_exporter": "python",
   "pygments_lexer": "ipython3",
   "version": "3.12.3"
  }
 },
 "nbformat": 4,
 "nbformat_minor": 5
}

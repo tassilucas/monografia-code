{
 "cells": [
  {
   "cell_type": "code",
   "execution_count": 131,
   "id": "f8d76d33-5e46-4c59-91c9-7bb0d5e0df33",
   "metadata": {},
   "outputs": [],
   "source": [
    "import pandas as pd"
   ]
  },
  {
   "cell_type": "code",
   "execution_count": 132,
   "id": "5b73fbd3-e483-4073-bb48-b7f9f20eba3e",
   "metadata": {},
   "outputs": [],
   "source": [
    "articles = pd.read_csv('../dataset/articles_with_id.csv')"
   ]
  },
  {
   "cell_type": "code",
   "execution_count": 133,
   "id": "f1253887-202b-46e7-92af-b0fcbf4d4c80",
   "metadata": {},
   "outputs": [
    {
     "data": {
      "text/plain": [
       "category\n",
       "poder                           22022\n",
       "colunas                         21622\n",
       "mercado                         20970\n",
       "esporte                         19730\n",
       "mundo                           17130\n",
       "cotidiano                       16967\n",
       "ilustrada                       16345\n",
       "opiniao                          4525\n",
       "paineldoleitor                   4011\n",
       "saopaulo                         3955\n",
       "tec                              2260\n",
       "tv                               2142\n",
       "educacao                         2118\n",
       "turismo                          1903\n",
       "ilustrissima                     1411\n",
       "ciencia                          1335\n",
       "equilibrioesaude                 1312\n",
       "sobretudo                        1057\n",
       "bbc                               980\n",
       "folhinha                          876\n",
       "empreendedorsocial                841\n",
       "comida                            828\n",
       "asmais                            548\n",
       "ambiente                          491\n",
       "seminariosfolha                   379\n",
       "serafina                          334\n",
       "o-melhor-de-sao-paulo             189\n",
       "vice                              146\n",
       "guia-de-livros-discos-filmes      143\n",
       "topofmind                          86\n",
       "banco-de-dados                     64\n",
       "dw                                 48\n",
       "infograficos                       43\n",
       "cenarios-2017                      43\n",
       "especial                           43\n",
       "rfi                                29\n",
       "guia-de-livros-filmes-discos       28\n",
       "multimidia                         27\n",
       "treinamento                        21\n",
       "treinamentocienciaesaude           18\n",
       "mulher                             16\n",
       "euronews                            8\n",
       "ombudsman                           3\n",
       "contas-de-casa                      2\n",
       "musica                              1\n",
       "2016                                1\n",
       "bichos                              1\n",
       "2015                                1\n",
       "Name: count, dtype: int64"
      ]
     },
     "execution_count": 133,
     "metadata": {},
     "output_type": "execute_result"
    }
   ],
   "source": [
    "articles['category'].value_counts()"
   ]
  },
  {
   "cell_type": "code",
   "execution_count": 134,
   "id": "30982a71-68d0-4098-8dc2-8d380959c2d0",
   "metadata": {},
   "outputs": [],
   "source": [
    "articles = articles[~articles['text'].isnull()]"
   ]
  },
  {
   "cell_type": "code",
   "execution_count": 135,
   "id": "740bbf30-39ea-461d-8470-34d3d5318955",
   "metadata": {},
   "outputs": [],
   "source": [
    "articles = articles[(articles['title'].str.len() > 40) & (articles['text'].str.find('.') > 150)]"
   ]
  },
  {
   "cell_type": "code",
   "execution_count": 136,
   "id": "ca89cb84-8a84-40f6-9f61-961f24e84ae7",
   "metadata": {},
   "outputs": [],
   "source": [
    "articles['title'] = articles['title'].apply(lambda x : x.replace(\"\\n\", \" \"))\n",
    "articles['text'] = articles['text'].apply(lambda x : x.replace(\"\\t\", \" \"))"
   ]
  },
  {
   "cell_type": "code",
   "execution_count": 137,
   "id": "de82034c-e455-4905-b788-ab706b4f37e7",
   "metadata": {},
   "outputs": [],
   "source": [
    "articles['title'] = articles['title'].apply(lambda x : x.strip())\n",
    "articles['text'] = articles['text'].apply(lambda x : x.strip())"
   ]
  },
  {
   "cell_type": "code",
   "execution_count": 138,
   "id": "4c89e371-50a4-4ab0-895f-80ccf54283ea",
   "metadata": {},
   "outputs": [],
   "source": [
    "# filter dataset\n",
    "generated = pd.read_csv('generated_sample.csv', names=['ID', 'title', 'text'])"
   ]
  },
  {
   "cell_type": "code",
   "execution_count": 139,
   "id": "27aaa866-02dd-4592-8eda-cf998532e0a6",
   "metadata": {},
   "outputs": [
    {
     "data": {
      "text/html": [
       "<div>\n",
       "<style scoped>\n",
       "    .dataframe tbody tr th:only-of-type {\n",
       "        vertical-align: middle;\n",
       "    }\n",
       "\n",
       "    .dataframe tbody tr th {\n",
       "        vertical-align: top;\n",
       "    }\n",
       "\n",
       "    .dataframe thead th {\n",
       "        text-align: right;\n",
       "    }\n",
       "</style>\n",
       "<table border=\"1\" class=\"dataframe\">\n",
       "  <thead>\n",
       "    <tr style=\"text-align: right;\">\n",
       "      <th></th>\n",
       "      <th>ID</th>\n",
       "      <th>title</th>\n",
       "      <th>text</th>\n",
       "    </tr>\n",
       "  </thead>\n",
       "  <tbody>\n",
       "    <tr>\n",
       "      <th>0</th>\n",
       "      <td>99133</td>\n",
       "      <td>Relator do Orçamento defende corte de R$ 10 bi...</td>\n",
       "      <td>O relator do Orçamento, deputado Ricardo Barro...</td>\n",
       "    </tr>\n",
       "    <tr>\n",
       "      <th>1</th>\n",
       "      <td>159054</td>\n",
       "      <td>Com estreias e abundância de meias, peso de Va...</td>\n",
       "      <td>Com um meio-campo ofensivo renovado, o Palmeir...</td>\n",
       "    </tr>\n",
       "    <tr>\n",
       "      <th>2</th>\n",
       "      <td>65560</td>\n",
       "      <td>Reino Unido pode deportar brasileira que pediu...</td>\n",
       "      <td>Uma brasileira grávida, Deiseane Santiago, que...</td>\n",
       "    </tr>\n",
       "    <tr>\n",
       "      <th>3</th>\n",
       "      <td>17810</td>\n",
       "      <td>Rowhani vence conservador e é reeleito preside...</td>\n",
       "      <td>O atual presidente do Irã, Hasan Rowhani, foi ...</td>\n",
       "    </tr>\n",
       "    <tr>\n",
       "      <th>4</th>\n",
       "      <td>115777</td>\n",
       "      <td>Temos que evitar remédios amargos, diz Temer a...</td>\n",
       "      <td>Em meio a tensões políticas e buscando soluçõe...</td>\n",
       "    </tr>\n",
       "    <tr>\n",
       "      <th>...</th>\n",
       "      <td>...</td>\n",
       "      <td>...</td>\n",
       "      <td>...</td>\n",
       "    </tr>\n",
       "    <tr>\n",
       "      <th>1695</th>\n",
       "      <td>100123</td>\n",
       "      <td>Movimento antirracista sacode universidades de...</td>\n",
       "      <td>O movimento antirracista ganha força nas unive...</td>\n",
       "    </tr>\n",
       "    <tr>\n",
       "      <th>1696</th>\n",
       "      <td>147892</td>\n",
       "      <td>Senado aprova benefício para pequenas empresas...</td>\n",
       "      <td>O Senado aprovou um projeto que visa beneficia...</td>\n",
       "    </tr>\n",
       "    <tr>\n",
       "      <th>1697</th>\n",
       "      <td>97069</td>\n",
       "      <td>Em 13 anos, dobra número de cidades com ensino...</td>\n",
       "      <td>O número de municípios com instituições de ens...</td>\n",
       "    </tr>\n",
       "    <tr>\n",
       "      <th>1698</th>\n",
       "      <td>118388</td>\n",
       "      <td>Estudantes buscam trabalho e pressionam taxa d...</td>\n",
       "      <td>A busca por emprego entre estudantes universit...</td>\n",
       "    </tr>\n",
       "    <tr>\n",
       "      <th>1699</th>\n",
       "      <td>110454</td>\n",
       "      <td>Governo sofre derrota após reforma e não conse...</td>\n",
       "      <td>O governo sofreu sua primeira derrota no Congr...</td>\n",
       "    </tr>\n",
       "  </tbody>\n",
       "</table>\n",
       "<p>1700 rows × 3 columns</p>\n",
       "</div>"
      ],
      "text/plain": [
       "          ID                                              title  \\\n",
       "0      99133  Relator do Orçamento defende corte de R$ 10 bi...   \n",
       "1     159054  Com estreias e abundância de meias, peso de Va...   \n",
       "2      65560  Reino Unido pode deportar brasileira que pediu...   \n",
       "3      17810  Rowhani vence conservador e é reeleito preside...   \n",
       "4     115777  Temos que evitar remédios amargos, diz Temer a...   \n",
       "...      ...                                                ...   \n",
       "1695  100123  Movimento antirracista sacode universidades de...   \n",
       "1696  147892  Senado aprova benefício para pequenas empresas...   \n",
       "1697   97069  Em 13 anos, dobra número de cidades com ensino...   \n",
       "1698  118388  Estudantes buscam trabalho e pressionam taxa d...   \n",
       "1699  110454  Governo sofre derrota após reforma e não conse...   \n",
       "\n",
       "                                                   text  \n",
       "0     O relator do Orçamento, deputado Ricardo Barro...  \n",
       "1     Com um meio-campo ofensivo renovado, o Palmeir...  \n",
       "2     Uma brasileira grávida, Deiseane Santiago, que...  \n",
       "3     O atual presidente do Irã, Hasan Rowhani, foi ...  \n",
       "4     Em meio a tensões políticas e buscando soluçõe...  \n",
       "...                                                 ...  \n",
       "1695  O movimento antirracista ganha força nas unive...  \n",
       "1696  O Senado aprovou um projeto que visa beneficia...  \n",
       "1697  O número de municípios com instituições de ens...  \n",
       "1698  A busca por emprego entre estudantes universit...  \n",
       "1699  O governo sofreu sua primeira derrota no Congr...  \n",
       "\n",
       "[1700 rows x 3 columns]"
      ]
     },
     "execution_count": 139,
     "metadata": {},
     "output_type": "execute_result"
    }
   ],
   "source": [
    "generated"
   ]
  },
  {
   "cell_type": "code",
   "execution_count": 140,
   "id": "6bbd4bb6-7d7b-4928-9dd7-c7f0844aced2",
   "metadata": {},
   "outputs": [],
   "source": [
    "articles = articles[~articles['ID'].isin(generated['ID'].to_list())]"
   ]
  },
  {
   "cell_type": "code",
   "execution_count": 157,
   "id": "364fa80c-8fa3-43de-9579-5396cf2507fa",
   "metadata": {},
   "outputs": [],
   "source": [
    "arc = articles.sample(1300)"
   ]
  },
  {
   "cell_type": "code",
   "execution_count": 160,
   "id": "2f0623a3-61dc-449a-909b-add7645021cc",
   "metadata": {},
   "outputs": [],
   "source": [
    "def truncate_text(text):\n",
    "    try:\n",
    "        if len(text) > 500:\n",
    "            tokens = text.split(' ')\n",
    "            ts = tokens[:500]\n",
    "            return ' '.join(ts)\n",
    "        else:\n",
    "            return text\n",
    "    except:\n",
    "        print(\"ERROR: \", text)\n",
    "\n",
    "arc['text'] = arc['text'].apply(truncate_text)"
   ]
  },
  {
   "cell_type": "code",
   "execution_count": 162,
   "id": "98b73dde-940b-4db8-a721-e4779d9d1baa",
   "metadata": {},
   "outputs": [],
   "source": [
    "arc[['title', 'text', 'ID']].to_csv('human_sample.csv', index=False)"
   ]
  }
 ],
 "metadata": {
  "kernelspec": {
   "display_name": "Python 3 (ipykernel)",
   "language": "python",
   "name": "python3"
  },
  "language_info": {
   "codemirror_mode": {
    "name": "ipython",
    "version": 3
   },
   "file_extension": ".py",
   "mimetype": "text/x-python",
   "name": "python",
   "nbconvert_exporter": "python",
   "pygments_lexer": "ipython3",
   "version": "3.12.3"
  }
 },
 "nbformat": 4,
 "nbformat_minor": 5
}
